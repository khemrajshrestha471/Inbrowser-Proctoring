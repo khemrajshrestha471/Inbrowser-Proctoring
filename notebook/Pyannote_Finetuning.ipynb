{
  "cells": [
    {
      "cell_type": "markdown",
      "metadata": {
        "id": "npzkG4poB2BH"
      },
      "source": [
        "# Adapting pyannote.audio pretrained speaker diarization pipeline to your own data\n",
        "\n",
        "[pyannote.audio](https://github.com/pyannote/pyannote-audio) is an open-source toolkit written in Python for speaker diarization.\n",
        "\n"
      ]
    },
    {
      "cell_type": "markdown",
      "metadata": {
        "id": "pnaQ4JSLF8Ms"
      },
      "source": [
        "⚠ Make sure that you switch to a GPU runtime (Runtime > Change runtime type).  \n"
      ]
    },
    {
      "cell_type": "markdown",
      "metadata": {
        "id": "CZjbjOBBDrdm"
      },
      "source": [
        "## Installation\n"
      ]
    },
    {
      "cell_type": "code",
      "execution_count": 4,
      "metadata": {
        "id": "_kYxY82Jzz3s",
        "colab": {
          "base_uri": "https://localhost:8080/"
        },
        "outputId": "6adc9945-4d3f-495b-f682-c811921c1141"
      },
      "outputs": [
        {
          "output_type": "stream",
          "name": "stdout",
          "text": [
            "\u001b[?25l     \u001b[90m━━━━━━━━━━━━━━━━━━━━━━━━━━━━━━━━━━━━━━━━\u001b[0m \u001b[32m0.0/117.0 kB\u001b[0m \u001b[31m?\u001b[0m eta \u001b[36m-:--:--\u001b[0m\r\u001b[2K     \u001b[90m━━━━━━━━━━━━━━━━━━━━━━━━━━━━━━━━━━━━━━━━\u001b[0m \u001b[32m117.0/117.0 kB\u001b[0m \u001b[31m7.4 MB/s\u001b[0m eta \u001b[36m0:00:00\u001b[0m\n",
            "\u001b[?25h  Preparing metadata (setup.py) ... \u001b[?25l\u001b[?25hdone\n",
            "  Preparing metadata (setup.py) ... \u001b[?25l\u001b[?25hdone\n",
            "\u001b[2K     \u001b[90m━━━━━━━━━━━━━━━━━━━━━━━━━━━━━━━━━━━━━━━━\u001b[0m \u001b[32m59.6/59.6 kB\u001b[0m \u001b[31m5.8 MB/s\u001b[0m eta \u001b[36m0:00:00\u001b[0m\n",
            "\u001b[?25h  Preparing metadata (setup.py) ... \u001b[?25l\u001b[?25hdone\n",
            "\u001b[2K   \u001b[90m━━━━━━━━━━━━━━━━━━━━━━━━━━━━━━━━━━━━━━━━\u001b[0m \u001b[32m898.7/898.7 kB\u001b[0m \u001b[31m33.3 MB/s\u001b[0m eta \u001b[36m0:00:00\u001b[0m\n",
            "\u001b[2K   \u001b[90m━━━━━━━━━━━━━━━━━━━━━━━━━━━━━━━━━━━━━━━━\u001b[0m \u001b[32m811.0/811.0 kB\u001b[0m \u001b[31m55.5 MB/s\u001b[0m eta \u001b[36m0:00:00\u001b[0m\n",
            "\u001b[2K   \u001b[90m━━━━━━━━━━━━━━━━━━━━━━━━━━━━━━━━━━━━━━━━\u001b[0m \u001b[32m79.5/79.5 kB\u001b[0m \u001b[31m7.4 MB/s\u001b[0m eta \u001b[36m0:00:00\u001b[0m\n",
            "\u001b[2K   \u001b[90m━━━━━━━━━━━━━━━━━━━━━━━━━━━━━━━━━━━━━━━━\u001b[0m \u001b[32m58.5/58.5 kB\u001b[0m \u001b[31m5.4 MB/s\u001b[0m eta \u001b[36m0:00:00\u001b[0m\n",
            "\u001b[2K   \u001b[90m━━━━━━━━━━━━━━━━━━━━━━━━━━━━━━━━━━━━━━━━\u001b[0m \u001b[32m48.1/48.1 kB\u001b[0m \u001b[31m4.2 MB/s\u001b[0m eta \u001b[36m0:00:00\u001b[0m\n",
            "\u001b[2K   \u001b[90m━━━━━━━━━━━━━━━━━━━━━━━━━━━━━━━━━━━━━━━━\u001b[0m \u001b[32m51.4/51.4 kB\u001b[0m \u001b[31m4.7 MB/s\u001b[0m eta \u001b[36m0:00:00\u001b[0m\n",
            "\u001b[2K   \u001b[90m━━━━━━━━━━━━━━━━━━━━━━━━━━━━━━━━━━━━━━━━\u001b[0m \u001b[32m119.3/119.3 kB\u001b[0m \u001b[31m10.7 MB/s\u001b[0m eta \u001b[36m0:00:00\u001b[0m\n",
            "\u001b[2K   \u001b[90m━━━━━━━━━━━━━━━━━━━━━━━━━━━━━━━━━━━━━━━━\u001b[0m \u001b[32m807.2/807.2 kB\u001b[0m \u001b[31m53.3 MB/s\u001b[0m eta \u001b[36m0:00:00\u001b[0m\n",
            "\u001b[2K   \u001b[90m━━━━━━━━━━━━━━━━━━━━━━━━━━━━━━━━━━━━━━━━\u001b[0m \u001b[32m101.7/101.7 kB\u001b[0m \u001b[31m10.7 MB/s\u001b[0m eta \u001b[36m0:00:00\u001b[0m\n",
            "\u001b[2K   \u001b[90m━━━━━━━━━━━━━━━━━━━━━━━━━━━━━━━━━━━━━━━━\u001b[0m \u001b[32m50.1/50.1 kB\u001b[0m \u001b[31m4.4 MB/s\u001b[0m eta \u001b[36m0:00:00\u001b[0m\n",
            "\u001b[2K   \u001b[90m━━━━━━━━━━━━━━━━━━━━━━━━━━━━━━━━━━━━━━━━\u001b[0m \u001b[32m362.8/362.8 kB\u001b[0m \u001b[31m28.4 MB/s\u001b[0m eta \u001b[36m0:00:00\u001b[0m\n",
            "\u001b[2K   \u001b[90m━━━━━━━━━━━━━━━━━━━━━━━━━━━━━━━━━━━━━━━━\u001b[0m \u001b[32m233.2/233.2 kB\u001b[0m \u001b[31m20.9 MB/s\u001b[0m eta \u001b[36m0:00:00\u001b[0m\n",
            "\u001b[2K   \u001b[90m━━━━━━━━━━━━━━━━━━━━━━━━━━━━━━━━━━━━━━━━\u001b[0m \u001b[32m117.8/117.8 kB\u001b[0m \u001b[31m11.5 MB/s\u001b[0m eta \u001b[36m0:00:00\u001b[0m\n",
            "\u001b[2K   \u001b[90m━━━━━━━━━━━━━━━━━━━━━━━━━━━━━━━━━━━━━━━━\u001b[0m \u001b[32m526.7/526.7 kB\u001b[0m \u001b[31m39.8 MB/s\u001b[0m eta \u001b[36m0:00:00\u001b[0m\n",
            "\u001b[2K   \u001b[90m━━━━━━━━━━━━━━━━━━━━━━━━━━━━━━━━━━━━━━━━\u001b[0m \u001b[32m78.6/78.6 kB\u001b[0m \u001b[31m7.3 MB/s\u001b[0m eta \u001b[36m0:00:00\u001b[0m\n",
            "\u001b[?25h  Building wheel for antlr4-python3-runtime (setup.py) ... \u001b[?25l\u001b[?25hdone\n",
            "  Building wheel for docopt (setup.py) ... \u001b[?25l\u001b[?25hdone\n",
            "  Building wheel for julius (setup.py) ... \u001b[?25l\u001b[?25hdone\n"
          ]
        }
      ],
      "source": [
        "!pip install -qq pyannote.audio\n",
        "!pip install -qq rich"
      ]
    },
    {
      "cell_type": "markdown",
      "metadata": {
        "id": "ndQ10VIf2W1c"
      },
      "source": [
        "⚠ Restart the runtime (Runtime > Restart session).  \n",
        "If you don't, `pyannote.database` will throw an error below."
      ]
    },
    {
      "cell_type": "markdown",
      "metadata": {
        "id": "lz-b8j6RD7H6"
      },
      "source": [
        "## Data preparation\n",
        "\n",
        "First things first: we need Annotated data.\n",
        "\n",
        "For the this, we rely on the AMI-SDM (single distance microphone) corpus whose audio is attenuated to create new low intensity data.\n"
      ]
    },
    {
      "cell_type": "code",
      "source": [
        "!pip show pyannote.audio"
      ],
      "metadata": {
        "colab": {
          "base_uri": "https://localhost:8080/"
        },
        "id": "rTDynkYbr5vM",
        "outputId": "a2d104fc-6565-4f10-fb16-6d25a4ca87e5"
      },
      "execution_count": 1,
      "outputs": [
        {
          "output_type": "stream",
          "name": "stdout",
          "text": [
            "Name: pyannote.audio\n",
            "Version: 3.3.2\n",
            "Summary: Neural building blocks for speaker diarization\n",
            "Home-page: https://github.com/pyannote/pyannote-audio\n",
            "Author: Hervé Bredin\n",
            "Author-email: herve.bredin@irit.fr\n",
            "License: mit\n",
            "Location: /usr/local/lib/python3.10/dist-packages\n",
            "Requires: asteroid-filterbanks, einops, huggingface-hub, lightning, omegaconf, pyannote.core, pyannote.database, pyannote.metrics, pyannote.pipeline, pytorch-metric-learning, rich, semver, soundfile, speechbrain, tensorboardX, torch, torch-audiomentations, torchaudio, torchmetrics\n",
            "Required-by: \n"
          ]
        }
      ]
    },
    {
      "cell_type": "code",
      "execution_count": null,
      "metadata": {
        "id": "uSQVKFDC0cOe",
        "colab": {
          "base_uri": "https://localhost:8080/"
        },
        "outputId": "c415de5c-3dc8-41ac-d17e-7db52c06076b"
      },
      "outputs": [
        {
          "output_type": "stream",
          "name": "stdout",
          "text": [
            "/content\n",
            "Cloning into 'AMI-diarization-setup'...\n",
            "remote: Enumerating objects: 977, done.\u001b[K\n",
            "remote: Counting objects: 100% (977/977), done.\u001b[K\n",
            "remote: Compressing objects: 100% (429/429), done.\u001b[K\n",
            "remote: Total 977 (delta 390), reused 949 (delta 369), pack-reused 0 (from 0)\u001b[K\n",
            "Receiving objects: 100% (977/977), 1.67 MiB | 14.75 MiB/s, done.\n",
            "Resolving deltas: 100% (390/390), done.\n",
            "/content/AMI-diarization-setup/pyannote\n"
          ]
        }
      ],
      "source": [
        "# download AMI-SDM mini corpus\n",
        "%cd /content/\n",
        "!git clone https://github.com/pyannote/AMI-diarization-setup\n",
        "%cd /content/AMI-diarization-setup/pyannote/\n",
        "# !bash download_ami_sdm_mini.sh"
      ]
    },
    {
      "cell_type": "code",
      "source": [
        "from google.colab import drive\n",
        "drive.mount('/content/drive')"
      ],
      "metadata": {
        "colab": {
          "base_uri": "https://localhost:8080/"
        },
        "id": "bedk1961psoM",
        "outputId": "f29ddc3a-4330-4128-a4e0-d003320b60ae"
      },
      "execution_count": null,
      "outputs": [
        {
          "output_type": "stream",
          "name": "stdout",
          "text": [
            "Mounted at /content/drive\n"
          ]
        }
      ]
    },
    {
      "cell_type": "code",
      "source": [
        "!unzip /content/amicorpus.zip -d /content/AMI-diarization-setup/pyannote/"
      ],
      "metadata": {
        "id": "w4iee_iKp42e",
        "colab": {
          "base_uri": "https://localhost:8080/"
        },
        "outputId": "1a2d333b-d1bf-4e95-88aa-f56ad5f1831f"
      },
      "execution_count": null,
      "outputs": [
        {
          "output_type": "stream",
          "name": "stdout",
          "text": [
            "Archive:  /content/amicorpus.zip\n",
            "   creating: /content/AMI-diarization-setup/pyannote/amicorpus/\n",
            "   creating: /content/AMI-diarization-setup/pyannote/amicorpus/ES2002a/\n",
            "   creating: /content/AMI-diarization-setup/pyannote/amicorpus/ES2002a/audio/\n",
            "  inflating: /content/AMI-diarization-setup/pyannote/amicorpus/ES2002a/audio/ES2002a.Array1-01.wav  \n",
            "   creating: /content/AMI-diarization-setup/pyannote/amicorpus/ES2003a/\n",
            "   creating: /content/AMI-diarization-setup/pyannote/amicorpus/ES2003a/audio/\n",
            "  inflating: /content/AMI-diarization-setup/pyannote/amicorpus/ES2003a/audio/ES2003a.Array1-01.wav  \n",
            "   creating: /content/AMI-diarization-setup/pyannote/amicorpus/ES2004a/\n",
            "   creating: /content/AMI-diarization-setup/pyannote/amicorpus/ES2004a/audio/\n",
            "  inflating: /content/AMI-diarization-setup/pyannote/amicorpus/ES2004a/audio/ES2004a.Array1-01.wav  \n",
            "   creating: /content/AMI-diarization-setup/pyannote/amicorpus/ES2005a/\n",
            "   creating: /content/AMI-diarization-setup/pyannote/amicorpus/ES2005a/audio/\n",
            "  inflating: /content/AMI-diarization-setup/pyannote/amicorpus/ES2005a/audio/ES2005a.Array1-01.wav  \n",
            "   creating: /content/AMI-diarization-setup/pyannote/amicorpus/ES2006a/\n",
            "   creating: /content/AMI-diarization-setup/pyannote/amicorpus/ES2006a/audio/\n",
            "  inflating: /content/AMI-diarization-setup/pyannote/amicorpus/ES2006a/audio/ES2006a.Array1-01.wav  \n",
            "   creating: /content/AMI-diarization-setup/pyannote/amicorpus/ES2007a/\n",
            "   creating: /content/AMI-diarization-setup/pyannote/amicorpus/ES2007a/audio/\n",
            "  inflating: /content/AMI-diarization-setup/pyannote/amicorpus/ES2007a/audio/ES2007a.Array1-01.wav  \n",
            "   creating: /content/AMI-diarization-setup/pyannote/amicorpus/ES2008a/\n",
            "   creating: /content/AMI-diarization-setup/pyannote/amicorpus/ES2008a/audio/\n",
            "  inflating: /content/AMI-diarization-setup/pyannote/amicorpus/ES2008a/audio/ES2008a.Array1-01.wav  \n",
            "   creating: /content/AMI-diarization-setup/pyannote/amicorpus/ES2009a/\n",
            "   creating: /content/AMI-diarization-setup/pyannote/amicorpus/ES2009a/audio/\n",
            "  inflating: /content/AMI-diarization-setup/pyannote/amicorpus/ES2009a/audio/ES2009a.Array1-01.wav  \n",
            "   creating: /content/AMI-diarization-setup/pyannote/amicorpus/ES2010a/\n",
            "   creating: /content/AMI-diarization-setup/pyannote/amicorpus/ES2010a/audio/\n",
            "  inflating: /content/AMI-diarization-setup/pyannote/amicorpus/ES2010a/audio/ES2010a.Array1-01.wav  \n",
            "   creating: /content/AMI-diarization-setup/pyannote/amicorpus/ES2011a/\n",
            "   creating: /content/AMI-diarization-setup/pyannote/amicorpus/ES2011a/audio/\n",
            "  inflating: /content/AMI-diarization-setup/pyannote/amicorpus/ES2011a/audio/ES2011a.Array1-01.wav  \n",
            "   creating: /content/AMI-diarization-setup/pyannote/amicorpus/ES2012a/\n",
            "   creating: /content/AMI-diarization-setup/pyannote/amicorpus/ES2012a/audio/\n",
            "  inflating: /content/AMI-diarization-setup/pyannote/amicorpus/ES2012a/audio/ES2012a.Array1-01.wav  \n",
            "   creating: /content/AMI-diarization-setup/pyannote/amicorpus/ES2013a/\n",
            "   creating: /content/AMI-diarization-setup/pyannote/amicorpus/ES2013a/audio/\n",
            "  inflating: /content/AMI-diarization-setup/pyannote/amicorpus/ES2013a/audio/ES2013a.Array1-01.wav  \n",
            "   creating: /content/AMI-diarization-setup/pyannote/amicorpus/ES2014a/\n",
            "   creating: /content/AMI-diarization-setup/pyannote/amicorpus/ES2014a/audio/\n",
            "  inflating: /content/AMI-diarization-setup/pyannote/amicorpus/ES2014a/audio/ES2014a.Array1-01.wav  \n",
            "   creating: /content/AMI-diarization-setup/pyannote/amicorpus/ES2015a/\n",
            "   creating: /content/AMI-diarization-setup/pyannote/amicorpus/ES2015a/audio/\n",
            "  inflating: /content/AMI-diarization-setup/pyannote/amicorpus/ES2015a/audio/ES2015a.Array1-01.wav  \n",
            "   creating: /content/AMI-diarization-setup/pyannote/amicorpus/ES2016a/\n",
            "   creating: /content/AMI-diarization-setup/pyannote/amicorpus/ES2016a/audio/\n",
            "  inflating: /content/AMI-diarization-setup/pyannote/amicorpus/ES2016a/audio/ES2016a.Array1-01.wav  \n",
            "   creating: /content/AMI-diarization-setup/pyannote/amicorpus/IS1000a/\n",
            "   creating: /content/AMI-diarization-setup/pyannote/amicorpus/IS1000a/audio/\n",
            "  inflating: /content/AMI-diarization-setup/pyannote/amicorpus/IS1000a/audio/IS1000a.Array1-01.wav  \n",
            "   creating: /content/AMI-diarization-setup/pyannote/amicorpus/IS1001a/\n",
            "   creating: /content/AMI-diarization-setup/pyannote/amicorpus/IS1001a/audio/\n",
            "  inflating: /content/AMI-diarization-setup/pyannote/amicorpus/IS1001a/audio/IS1001a.Array1-01.wav  \n",
            "   creating: /content/AMI-diarization-setup/pyannote/amicorpus/IS1003a/\n",
            "   creating: /content/AMI-diarization-setup/pyannote/amicorpus/IS1003a/audio/\n",
            "  inflating: /content/AMI-diarization-setup/pyannote/amicorpus/IS1003a/audio/IS1003a.Array1-01.wav  \n",
            "   creating: /content/AMI-diarization-setup/pyannote/amicorpus/IS1004a/\n",
            "   creating: /content/AMI-diarization-setup/pyannote/amicorpus/IS1004a/audio/\n",
            "  inflating: /content/AMI-diarization-setup/pyannote/amicorpus/IS1004a/audio/IS1004a.Array1-01.wav  \n",
            "   creating: /content/AMI-diarization-setup/pyannote/amicorpus/IS1005a/\n",
            "   creating: /content/AMI-diarization-setup/pyannote/amicorpus/IS1005a/audio/\n",
            "  inflating: /content/AMI-diarization-setup/pyannote/amicorpus/IS1005a/audio/IS1005a.Array1-01.wav  \n",
            "   creating: /content/AMI-diarization-setup/pyannote/amicorpus/IS1006a/\n",
            "   creating: /content/AMI-diarization-setup/pyannote/amicorpus/IS1006a/audio/\n",
            "  inflating: /content/AMI-diarization-setup/pyannote/amicorpus/IS1006a/audio/IS1006a.Array1-01.wav  \n",
            "   creating: /content/AMI-diarization-setup/pyannote/amicorpus/IS1007a/\n",
            "   creating: /content/AMI-diarization-setup/pyannote/amicorpus/IS1007a/audio/\n",
            "  inflating: /content/AMI-diarization-setup/pyannote/amicorpus/IS1007a/audio/IS1007a.Array1-01.wav  \n",
            "   creating: /content/AMI-diarization-setup/pyannote/amicorpus/IS1008a/\n",
            "   creating: /content/AMI-diarization-setup/pyannote/amicorpus/IS1008a/audio/\n",
            "  inflating: /content/AMI-diarization-setup/pyannote/amicorpus/IS1008a/audio/IS1008a.Array1-01.wav  \n",
            "   creating: /content/AMI-diarization-setup/pyannote/amicorpus/IS1009a/\n",
            "   creating: /content/AMI-diarization-setup/pyannote/amicorpus/IS1009a/audio/\n",
            "  inflating: /content/AMI-diarization-setup/pyannote/amicorpus/IS1009a/audio/IS1009a.Array1-01.wav  \n",
            "   creating: /content/AMI-diarization-setup/pyannote/amicorpus/TS3003a/\n",
            "   creating: /content/AMI-diarization-setup/pyannote/amicorpus/TS3003a/audio/\n",
            "  inflating: /content/AMI-diarization-setup/pyannote/amicorpus/TS3003a/audio/TS3003a.Array1-01.wav  \n",
            "   creating: /content/AMI-diarization-setup/pyannote/amicorpus/TS3004a/\n",
            "   creating: /content/AMI-diarization-setup/pyannote/amicorpus/TS3004a/audio/\n",
            "  inflating: /content/AMI-diarization-setup/pyannote/amicorpus/TS3004a/audio/TS3004a.Array1-01.wav  \n",
            "   creating: /content/AMI-diarization-setup/pyannote/amicorpus/TS3005a/\n",
            "   creating: /content/AMI-diarization-setup/pyannote/amicorpus/TS3005a/audio/\n",
            "  inflating: /content/AMI-diarization-setup/pyannote/amicorpus/TS3005a/audio/TS3005a.Array1-01.wav  \n",
            "   creating: /content/AMI-diarization-setup/pyannote/amicorpus/TS3006a/\n",
            "   creating: /content/AMI-diarization-setup/pyannote/amicorpus/TS3006a/audio/\n",
            "  inflating: /content/AMI-diarization-setup/pyannote/amicorpus/TS3006a/audio/TS3006a.Array1-01.wav  \n",
            "   creating: /content/AMI-diarization-setup/pyannote/amicorpus/TS3007a/\n",
            "   creating: /content/AMI-diarization-setup/pyannote/amicorpus/TS3007a/audio/\n",
            "  inflating: /content/AMI-diarization-setup/pyannote/amicorpus/TS3007a/audio/TS3007a.Array1-01.wav  \n",
            "   creating: /content/AMI-diarization-setup/pyannote/amicorpus/TS3008a/\n",
            "   creating: /content/AMI-diarization-setup/pyannote/amicorpus/TS3008a/audio/\n",
            "  inflating: /content/AMI-diarization-setup/pyannote/amicorpus/TS3008a/audio/TS3008a.Array1-01.wav  \n",
            "   creating: /content/AMI-diarization-setup/pyannote/amicorpus/TS3009a/\n",
            "   creating: /content/AMI-diarization-setup/pyannote/amicorpus/TS3009a/audio/\n",
            "  inflating: /content/AMI-diarization-setup/pyannote/amicorpus/TS3009a/audio/TS3009a.Array1-01.wav  \n",
            "   creating: /content/AMI-diarization-setup/pyannote/amicorpus/TS3010a/\n",
            "   creating: /content/AMI-diarization-setup/pyannote/amicorpus/TS3010a/audio/\n",
            "  inflating: /content/AMI-diarization-setup/pyannote/amicorpus/TS3010a/audio/TS3010a.Array1-01.wav  \n",
            "   creating: /content/AMI-diarization-setup/pyannote/amicorpus/TS3011a/\n",
            "   creating: /content/AMI-diarization-setup/pyannote/amicorpus/TS3011a/audio/\n",
            "  inflating: /content/AMI-diarization-setup/pyannote/amicorpus/TS3011a/audio/TS3011a.Array1-01.wav  \n",
            "   creating: /content/AMI-diarization-setup/pyannote/amicorpus/TS3012a/\n",
            "   creating: /content/AMI-diarization-setup/pyannote/amicorpus/TS3012a/audio/\n",
            "  inflating: /content/AMI-diarization-setup/pyannote/amicorpus/TS3012a/audio/TS3012a.Array1-01.wav  \n"
          ]
        }
      ]
    },
    {
      "cell_type": "code",
      "execution_count": null,
      "metadata": {
        "colab": {
          "base_uri": "https://localhost:8080/"
        },
        "id": "wTKkOeMr2QUL",
        "outputId": "53e7d66e-0fc6-4602-a24e-546d0ae1adc5"
      },
      "outputs": [
        {
          "output_type": "stream",
          "name": "stdout",
          "text": [
            "'AMI-SDM.SpeakerDiarization.only_words' found in /content/AMI-diarization-setup/pyannote/database.yml does not define the 'scope' of speaker labels (file, database, or global). Setting it to 'file'.\n",
            "'AMI-SDM.SpeakerDiarization.mini' found in /content/AMI-diarization-setup/pyannote/database.yml does not define the 'scope' of speaker labels (file, database, or global). Setting it to 'file'.\n",
            "'AMI.SpeakerDiarization.only_words' found in /content/AMI-diarization-setup/pyannote/database.yml does not define the 'scope' of speaker labels (file, database, or global). Setting it to 'file'.\n",
            "'AMI.SpeakerDiarization.mini' found in /content/AMI-diarization-setup/pyannote/database.yml does not define the 'scope' of speaker labels (file, database, or global). Setting it to 'file'.\n",
            "'AMI.SpeakerDiarization.word_and_vocalsounds' found in /content/AMI-diarization-setup/pyannote/database.yml does not define the 'scope' of speaker labels (file, database, or global). Setting it to 'file'.\n",
            "\u001b[92m\u001b[1m\u001b[4mtrain\u001b[0m\n",
            "   28 files\n",
            "   8h46m annotated\n",
            "   6h11m of speech (71%)\n",
            "   112 speakers\n",
            "\u001b[92m\u001b[1m\u001b[4mdevelopment\u001b[0m\n",
            "   3 files\n",
            "   0h56m annotated\n",
            "   0h40m of speech (72%)\n",
            "   12 speakers\n",
            "\u001b[92m\u001b[1m\u001b[4mtest\u001b[0m\n",
            "   3 files\n",
            "   0h56m annotated\n",
            "   0h39m of speech (70%)\n",
            "   12 speakers\n"
          ]
        }
      ],
      "source": [
        "!PYANNOTE_DATABASE_CONFIG=\"/content/AMI-diarization-setup/pyannote/database.yml\" pyannote-database info AMI-SDM.SpeakerDiarization.mini"
      ]
    },
    {
      "cell_type": "code",
      "execution_count": null,
      "metadata": {
        "id": "l6V8Exw41XBp",
        "colab": {
          "base_uri": "https://localhost:8080/"
        },
        "outputId": "131313a7-f501-4ad5-d8fd-9741a71b08dd"
      },
      "outputs": [
        {
          "output_type": "stream",
          "name": "stdout",
          "text": [
            "'AMI-SDM.SpeakerDiarization.only_words' found in /content/AMI-diarization-setup/pyannote/database.yml does not define the 'scope' of speaker labels (file, database, or global). Setting it to 'file'.\n",
            "'AMI-SDM.SpeakerDiarization.mini' found in /content/AMI-diarization-setup/pyannote/database.yml does not define the 'scope' of speaker labels (file, database, or global). Setting it to 'file'.\n",
            "'AMI.SpeakerDiarization.only_words' found in /content/AMI-diarization-setup/pyannote/database.yml does not define the 'scope' of speaker labels (file, database, or global). Setting it to 'file'.\n",
            "'AMI.SpeakerDiarization.mini' found in /content/AMI-diarization-setup/pyannote/database.yml does not define the 'scope' of speaker labels (file, database, or global). Setting it to 'file'.\n",
            "'AMI.SpeakerDiarization.word_and_vocalsounds' found in /content/AMI-diarization-setup/pyannote/database.yml does not define the 'scope' of speaker labels (file, database, or global). Setting it to 'file'.\n"
          ]
        }
      ],
      "source": [
        "from pyannote.database import registry, FileFinder\n",
        "\n",
        "registry.load_database(\"AMI-diarization-setup/pyannote/database.yml\")\n",
        "dataset = registry.get_protocol(\"AMI-SDM.SpeakerDiarization.mini\", {\"audio\": FileFinder()})"
      ]
    },
    {
      "cell_type": "markdown",
      "metadata": {
        "id": "HivpZEgZEVAu"
      },
      "source": [
        "## Pretrained pipeline\n",
        "\n",
        "First we run the pretrained model to evaluate its performance.\n",
        "\n",
        "Official [pyannote.audio](https://github.com/pyannote/pyannote-audio) pipelines (i.e. those under the [`pyannote` organization](https://hf.co/pyannote) umbrella) are open-source, but gated. It means that you have to first accept users conditions on their respective Huggingface page to access the pretrained weights and hyper-parameters.\n"
      ]
    },
    {
      "cell_type": "code",
      "execution_count": null,
      "metadata": {
        "id": "l7eN_Y792Cxt",
        "colab": {
          "base_uri": "https://localhost:8080/"
        },
        "outputId": "46b2ae65-9410-4173-de5e-4444989b05de"
      },
      "outputs": [
        {
          "output_type": "stream",
          "name": "stderr",
          "text": [
            "INFO:pytorch_lightning.utilities.migration.utils:Lightning automatically upgraded your loaded checkpoint from v1.5.4 to v2.4.0. To apply the upgrade to your files permanently, run `python -m pytorch_lightning.utilities.upgrade_checkpoint ../root/.cache/torch/pyannote/models--pyannote--segmentation/snapshots/c4c8ceafcbb3a7a280c2d357aee9fbc9b0be7f9b/pytorch_model.bin`\n"
          ]
        },
        {
          "output_type": "stream",
          "name": "stdout",
          "text": [
            "Model was trained with pyannote.audio 0.0.1, yours is 3.3.2. Bad things might happen unless you revert pyannote.audio to 0.x.\n",
            "Model was trained with torch 1.10.0+cu102, yours is 2.4.1+cu121. Bad things might happen unless you revert torch to 1.x.\n"
          ]
        },
        {
          "output_type": "execute_result",
          "data": {
            "text/plain": [
              "<pyannote.audio.pipelines.speaker_diarization.SpeakerDiarization at 0x7a0a4089a560>"
            ]
          },
          "metadata": {},
          "execution_count": 11
        }
      ],
      "source": [
        "from pyannote.audio import Pipeline\n",
        "import torch\n",
        "\n",
        "HUGGINGFACE_TOKEN = \"Token was here.\"\n",
        "pretrained_pipeline = Pipeline.from_pretrained(\"pyannote/speaker-diarization\", use_auth_token=HUGGINGFACE_TOKEN)\n",
        "pretrained_pipeline.to(torch.device('cuda'))\n"
      ]
    },
    {
      "cell_type": "code",
      "execution_count": null,
      "metadata": {
        "colab": {
          "base_uri": "https://localhost:8080/"
        },
        "id": "lDIIp7iaICUC",
        "outputId": "68dfadc5-7ed8-4226-ab43-ae933a51da9b"
      },
      "outputs": [
        {
          "output_type": "stream",
          "name": "stdout",
          "text": [
            "The pretrained pipeline reaches a Diarization Error Rate (DER) of 37.3% on AMI-SDM.SpeakerDiarization.mini test set.\n"
          ]
        }
      ],
      "source": [
        "# this takes approximately 2min to run on Google Colab GPU\n",
        "from pyannote.metrics.diarization import DiarizationErrorRate\n",
        "metric = DiarizationErrorRate()\n",
        "\n",
        "for file in dataset.test():\n",
        "    # apply pretrained pipeline\n",
        "    file[\"pretrained pipeline\"] = pretrained_pipeline(file)\n",
        "\n",
        "    # evaluate its performance\n",
        "    metric(file[\"annotation\"], file[\"pretrained pipeline\"], uem=file[\"annotated\"])\n",
        "\n",
        "print(f\"The pretrained pipeline reaches a Diarization Error Rate (DER) of {100 * abs(metric):.1f}% on {dataset.name} test set.\")"
      ]
    },
    {
      "cell_type": "code",
      "execution_count": null,
      "metadata": {
        "colab": {
          "base_uri": "https://localhost:8080/",
          "height": 157
        },
        "id": "r4UydYQkKsxW",
        "outputId": "1300454a-4c27-4a50-cbb3-cdf59b74e60d"
      },
      "outputs": [
        {
          "output_type": "execute_result",
          "data": {
            "text/plain": [
              "<pyannote.core.annotation.Annotation at 0x7a0a3469c4f0>"
            ],
            "image/png": "[encoded data removed]"
          },
          "metadata": {},
          "execution_count": 13
        }
      ],
      "source": [
        "file[\"annotation\"]"
      ]
    },
    {
      "cell_type": "code",
      "execution_count": null,
      "metadata": {
        "colab": {
          "base_uri": "https://localhost:8080/",
          "height": 157
        },
        "id": "s4C7xMQlKwVX",
        "outputId": "fe3ae837-58cd-41c9-afc8-ac398e4d2447"
      },
      "outputs": [
        {
          "output_type": "execute_result",
          "data": {
            "text/plain": [
              "<pyannote.core.annotation.Annotation at 0x7a0a40c96560>"
            ],
            "image/png": "[encoded data removed]"
          },
          "metadata": {},
          "execution_count": 14
        }
      ],
      "source": [
        "file[\"pretrained pipeline\"]"
      ]
    },
    {
      "cell_type": "markdown",
      "metadata": {
        "id": "qrYuCLLUKALA"
      },
      "source": [
        "## Fine-tuning the segmentation model\n",
        "\n",
        "When a sufficiently large training set of labeled conversations is available, fine-tuning the internal speaker segmentation model may lead to significant performance boost.\n",
        "\n",
        "Starting from the pretrained model..."
      ]
    },
    {
      "cell_type": "code",
      "execution_count": null,
      "metadata": {
        "id": "jeUDgr4f55v6",
        "colab": {
          "base_uri": "https://localhost:8080/"
        },
        "outputId": "074c5668-886a-4d38-f97c-cfc55f1e58b3"
      },
      "outputs": [
        {
          "output_type": "stream",
          "name": "stderr",
          "text": [
            "INFO:pytorch_lightning.utilities.migration.utils:Lightning automatically upgraded your loaded checkpoint from v1.5.4 to v2.4.0. To apply the upgrade to your files permanently, run `python -m pytorch_lightning.utilities.upgrade_checkpoint ../root/.cache/torch/pyannote/models--pyannote--segmentation/snapshots/660b9e20307a2b0cdb400d0f80aadc04a701fc54/pytorch_model.bin`\n"
          ]
        },
        {
          "output_type": "stream",
          "name": "stdout",
          "text": [
            "Model was trained with pyannote.audio 0.0.1, yours is 3.3.2. Bad things might happen unless you revert pyannote.audio to 0.x.\n",
            "Model was trained with torch 1.10.0+cu102, yours is 2.4.1+cu121. Bad things might happen unless you revert torch to 1.x.\n"
          ]
        },
        {
          "output_type": "execute_result",
          "data": {
            "text/plain": [
              "PyanNet(\n",
              "  (sincnet): SincNet(\n",
              "    (wav_norm1d): InstanceNorm1d(1, eps=1e-05, momentum=0.1, affine=True, track_running_stats=False)\n",
              "    (conv1d): ModuleList(\n",
              "      (0): Encoder(\n",
              "        (filterbank): ParamSincFB()\n",
              "      )\n",
              "      (1): Conv1d(80, 60, kernel_size=(5,), stride=(1,))\n",
              "      (2): Conv1d(60, 60, kernel_size=(5,), stride=(1,))\n",
              "    )\n",
              "    (pool1d): ModuleList(\n",
              "      (0-2): 3 x MaxPool1d(kernel_size=3, stride=3, padding=0, dilation=1, ceil_mode=False)\n",
              "    )\n",
              "    (norm1d): ModuleList(\n",
              "      (0): InstanceNorm1d(80, eps=1e-05, momentum=0.1, affine=True, track_running_stats=False)\n",
              "      (1-2): 2 x InstanceNorm1d(60, eps=1e-05, momentum=0.1, affine=True, track_running_stats=False)\n",
              "    )\n",
              "  )\n",
              "  (lstm): LSTM(60, 128, num_layers=4, batch_first=True, dropout=0.5, bidirectional=True)\n",
              "  (linear): ModuleList(\n",
              "    (0): Linear(in_features=256, out_features=128, bias=True)\n",
              "    (1): Linear(in_features=128, out_features=128, bias=True)\n",
              "  )\n",
              "  (classifier): Linear(in_features=128, out_features=3, bias=True)\n",
              "  (activation): Sigmoid()\n",
              ")"
            ]
          },
          "metadata": {},
          "execution_count": 16
        }
      ],
      "source": [
        "from pyannote.audio import Model\n",
        "model = Model.from_pretrained(\"pyannote/segmentation\", use_auth_token=HUGGINGFACE_TOKEN)\n",
        "model.to(torch.device('cuda'))"
      ]
    },
    {
      "cell_type": "markdown",
      "metadata": {
        "id": "SAyCf7ontua_"
      },
      "source": [
        "... we prepare it for fine-tuning on the training dataset:"
      ]
    },
    {
      "cell_type": "code",
      "execution_count": null,
      "metadata": {
        "id": "Kk_a7ABQ6PPH",
        "colab": {
          "base_uri": "https://localhost:8080/"
        },
        "outputId": "de7f6685-3857-48d1-c634-441407af7c61"
      },
      "outputs": [
        {
          "output_type": "stream",
          "name": "stdout",
          "text": [
            "Protocol AMI-SDM.SpeakerDiarization.mini does not precompute the output of torchaudio.info(): adding a 'torchaudio.info' preprocessor for you to speed up dataloaders. See pyannote.database documentation on how to do that yourself.\n"
          ]
        }
      ],
      "source": [
        "from pyannote.audio.tasks import Segmentation\n",
        "task = Segmentation(\n",
        "    dataset,\n",
        "    duration=model.specifications.duration,\n",
        "    max_num_speakers=len(model.specifications.classes),\n",
        "    batch_size=32,\n",
        "    num_workers=1,\n",
        "    loss=\"bce\",\n",
        "    vad_loss=\"bce\")\n",
        "model.task = task\n",
        "model.prepare_data()\n",
        "model.setup()"
      ]
    },
    {
      "cell_type": "markdown",
      "metadata": {
        "id": "TgobhVTKt9sH"
      },
      "source": [
        "The actual training is done with [`lightning`](https://github.com/Lightning-AI/lightning):"
      ]
    },
    {
      "cell_type": "code",
      "execution_count": null,
      "metadata": {
        "id": "f_bVYrNo6TmI",
        "colab": {
          "base_uri": "https://localhost:8080/",
          "height": 563,
          "referenced_widgets": [
            "12fa3fac757d4da38eab38a2d35f94ff",
            "16b6aeee5de0449a872feef22dbffc8f"
          ]
        },
        "outputId": "dfa6fd50-cce3-4e5e-9af4-d1b78ca118b8"
      },
      "outputs": [
        {
          "output_type": "stream",
          "name": "stderr",
          "text": [
            "INFO:pytorch_lightning.utilities.rank_zero:GPU available: True (cuda), used: True\n",
            "INFO:pytorch_lightning.utilities.rank_zero:TPU available: False, using: 0 TPU cores\n",
            "INFO:pytorch_lightning.utilities.rank_zero:HPU available: False, using: 0 HPUs\n",
            "INFO:pytorch_lightning.accelerators.cuda:LOCAL_RANK: 0 - CUDA_VISIBLE_DEVICES: [0]\n"
          ]
        },
        {
          "output_type": "display_data",
          "data": {
            "text/plain": [
              "┏━━━┳━━━━━━━━━━━━━━━━━━━┳━━━━━━━━━━━━━━━━━━┳━━━━━━━━┳━━━━━━━┳━━━━━━━━━━━━━━━┳━━━━━━━━━━━━━━━━━━━━━━━━━━━━━━━━━━━━━┓\n",
              "┃\u001b[1;35m \u001b[0m\u001b[1;35m \u001b[0m\u001b[1;35m \u001b[0m┃\u001b[1;35m \u001b[0m\u001b[1;35mName             \u001b[0m\u001b[1;35m \u001b[0m┃\u001b[1;35m \u001b[0m\u001b[1;35mType            \u001b[0m\u001b[1;35m \u001b[0m┃\u001b[1;35m \u001b[0m\u001b[1;35mParams\u001b[0m\u001b[1;35m \u001b[0m┃\u001b[1;35m \u001b[0m\u001b[1;35mMode \u001b[0m\u001b[1;35m \u001b[0m┃\u001b[1;35m \u001b[0m\u001b[1;35m     In sizes\u001b[0m\u001b[1;35m \u001b[0m┃\u001b[1;35m \u001b[0m\u001b[1;35m                          Out sizes\u001b[0m\u001b[1;35m \u001b[0m┃\n",
              "┡━━━╇━━━━━━━━━━━━━━━━━━━╇━━━━━━━━━━━━━━━━━━╇━━━━━━━━╇━━━━━━━╇━━━━━━━━━━━━━━━╇━━━━━━━━━━━━━━━━━━━━━━━━━━━━━━━━━━━━━┩\n",
              "│\u001b[2m \u001b[0m\u001b[2m0\u001b[0m\u001b[2m \u001b[0m│ sincnet           │ SincNet          │ 42.6 K │ train │\u001b[37m \u001b[0m\u001b[37m[1, 1, 80000]\u001b[0m\u001b[37m \u001b[0m│\u001b[37m \u001b[0m\u001b[37m                       [1, 60, 293]\u001b[0m\u001b[37m \u001b[0m│\n",
              "│\u001b[2m \u001b[0m\u001b[2m1\u001b[0m\u001b[2m \u001b[0m│ lstm              │ LSTM             │  1.4 M │ train │\u001b[37m \u001b[0m\u001b[37m [1, 293, 60]\u001b[0m\u001b[37m \u001b[0m│\u001b[37m \u001b[0m\u001b[37m  [[1, 293, 256], [[8, 1, 128], [8,\u001b[0m\u001b[37m \u001b[0m│\n",
              "│\u001b[2m   \u001b[0m│                   │                  │        │       │\u001b[37m               \u001b[0m│\u001b[37m \u001b[0m\u001b[37m                          1, 128]]]\u001b[0m\u001b[37m \u001b[0m│\n",
              "│\u001b[2m \u001b[0m\u001b[2m2\u001b[0m\u001b[2m \u001b[0m│ linear            │ ModuleList       │ 49.4 K │ train │\u001b[37m \u001b[0m\u001b[37m            ?\u001b[0m\u001b[37m \u001b[0m│\u001b[37m \u001b[0m\u001b[37m                                  ?\u001b[0m\u001b[37m \u001b[0m│\n",
              "│\u001b[2m \u001b[0m\u001b[2m3\u001b[0m\u001b[2m \u001b[0m│ classifier        │ Linear           │    387 │ train │\u001b[37m \u001b[0m\u001b[37m[1, 293, 128]\u001b[0m\u001b[37m \u001b[0m│\u001b[37m \u001b[0m\u001b[37m                        [1, 293, 3]\u001b[0m\u001b[37m \u001b[0m│\n",
              "│\u001b[2m \u001b[0m\u001b[2m4\u001b[0m\u001b[2m \u001b[0m│ activation        │ Sigmoid          │      0 │ train │\u001b[37m \u001b[0m\u001b[37m  [1, 293, 3]\u001b[0m\u001b[37m \u001b[0m│\u001b[37m \u001b[0m\u001b[37m                        [1, 293, 3]\u001b[0m\u001b[37m \u001b[0m│\n",
              "│\u001b[2m \u001b[0m\u001b[2m5\u001b[0m\u001b[2m \u001b[0m│ validation_metric │ MetricCollection │      0 │ train │\u001b[37m \u001b[0m\u001b[37m            ?\u001b[0m\u001b[37m \u001b[0m│\u001b[37m \u001b[0m\u001b[37m                                  ?\u001b[0m\u001b[37m \u001b[0m│\n",
              "└───┴───────────────────┴──────────────────┴────────┴───────┴───────────────┴─────────────────────────────────────┘\n"
            ],
            "text/html": [
              "<pre style=\"white-space:pre;overflow-x:auto;line-height:normal;font-family:Menlo,'DejaVu Sans Mono',consolas,'Courier New',monospace\">┏━━━┳━━━━━━━━━━━━━━━━━━━┳━━━━━━━━━━━━━━━━━━┳━━━━━━━━┳━━━━━━━┳━━━━━━━━━━━━━━━┳━━━━━━━━━━━━━━━━━━━━━━━━━━━━━━━━━━━━━┓\n",
              "┃<span style=\"color: #800080; text-decoration-color: #800080; font-weight: bold\">   </span>┃<span style=\"color: #800080; text-decoration-color: #800080; font-weight: bold\"> Name              </span>┃<span style=\"color: #800080; text-decoration-color: #800080; font-weight: bold\"> Type             </span>┃<span style=\"color: #800080; text-decoration-color: #800080; font-weight: bold\"> Params </span>┃<span style=\"color: #800080; text-decoration-color: #800080; font-weight: bold\"> Mode  </span>┃<span style=\"color: #800080; text-decoration-color: #800080; font-weight: bold\">      In sizes </span>┃<span style=\"color: #800080; text-decoration-color: #800080; font-weight: bold\">                           Out sizes </span>┃\n",
              "┡━━━╇━━━━━━━━━━━━━━━━━━━╇━━━━━━━━━━━━━━━━━━╇━━━━━━━━╇━━━━━━━╇━━━━━━━━━━━━━━━╇━━━━━━━━━━━━━━━━━━━━━━━━━━━━━━━━━━━━━┩\n",
              "│<span style=\"color: #7f7f7f; text-decoration-color: #7f7f7f\"> 0 </span>│ sincnet           │ SincNet          │ 42.6 K │ train │<span style=\"color: #c0c0c0; text-decoration-color: #c0c0c0\"> [1, 1, 80000] </span>│<span style=\"color: #c0c0c0; text-decoration-color: #c0c0c0\">                        [1, 60, 293] </span>│\n",
              "│<span style=\"color: #7f7f7f; text-decoration-color: #7f7f7f\"> 1 </span>│ lstm              │ LSTM             │  1.4 M │ train │<span style=\"color: #c0c0c0; text-decoration-color: #c0c0c0\">  [1, 293, 60] </span>│<span style=\"color: #c0c0c0; text-decoration-color: #c0c0c0\">   [[1, 293, 256], [[8, 1, 128], [8, </span>│\n",
              "│<span style=\"color: #7f7f7f; text-decoration-color: #7f7f7f\">   </span>│                   │                  │        │       │<span style=\"color: #c0c0c0; text-decoration-color: #c0c0c0\">               </span>│<span style=\"color: #c0c0c0; text-decoration-color: #c0c0c0\">                           1, 128]]] </span>│\n",
              "│<span style=\"color: #7f7f7f; text-decoration-color: #7f7f7f\"> 2 </span>│ linear            │ ModuleList       │ 49.4 K │ train │<span style=\"color: #c0c0c0; text-decoration-color: #c0c0c0\">             ? </span>│<span style=\"color: #c0c0c0; text-decoration-color: #c0c0c0\">                                   ? </span>│\n",
              "│<span style=\"color: #7f7f7f; text-decoration-color: #7f7f7f\"> 3 </span>│ classifier        │ Linear           │    387 │ train │<span style=\"color: #c0c0c0; text-decoration-color: #c0c0c0\"> [1, 293, 128] </span>│<span style=\"color: #c0c0c0; text-decoration-color: #c0c0c0\">                         [1, 293, 3] </span>│\n",
              "│<span style=\"color: #7f7f7f; text-decoration-color: #7f7f7f\"> 4 </span>│ activation        │ Sigmoid          │      0 │ train │<span style=\"color: #c0c0c0; text-decoration-color: #c0c0c0\">   [1, 293, 3] </span>│<span style=\"color: #c0c0c0; text-decoration-color: #c0c0c0\">                         [1, 293, 3] </span>│\n",
              "│<span style=\"color: #7f7f7f; text-decoration-color: #7f7f7f\"> 5 </span>│ validation_metric │ MetricCollection │      0 │ train │<span style=\"color: #c0c0c0; text-decoration-color: #c0c0c0\">             ? </span>│<span style=\"color: #c0c0c0; text-decoration-color: #c0c0c0\">                                   ? </span>│\n",
              "└───┴───────────────────┴──────────────────┴────────┴───────┴───────────────┴─────────────────────────────────────┘\n",
              "</pre>\n"
            ]
          },
          "metadata": {}
        },
        {
          "output_type": "display_data",
          "data": {
            "text/plain": [
              "\u001b[1mTrainable params\u001b[0m: 1.5 M                                                                                            \n",
              "\u001b[1mNon-trainable params\u001b[0m: 0                                                                                            \n",
              "\u001b[1mTotal params\u001b[0m: 1.5 M                                                                                                \n",
              "\u001b[1mTotal estimated model params size (MB)\u001b[0m: 5                                                                          \n",
              "\u001b[1mModules in train mode\u001b[0m: 27                                                                                          \n",
              "\u001b[1mModules in eval mode\u001b[0m: 0                                                                                            \n"
            ],
            "text/html": [
              "<pre style=\"white-space:pre;overflow-x:auto;line-height:normal;font-family:Menlo,'DejaVu Sans Mono',consolas,'Courier New',monospace\"><span style=\"font-weight: bold\">Trainable params</span>: 1.5 M                                                                                            \n",
              "<span style=\"font-weight: bold\">Non-trainable params</span>: 0                                                                                            \n",
              "<span style=\"font-weight: bold\">Total params</span>: 1.5 M                                                                                                \n",
              "<span style=\"font-weight: bold\">Total estimated model params size (MB)</span>: 5                                                                          \n",
              "<span style=\"font-weight: bold\">Modules in train mode</span>: 27                                                                                          \n",
              "<span style=\"font-weight: bold\">Modules in eval mode</span>: 0                                                                                            \n",
              "</pre>\n"
            ]
          },
          "metadata": {}
        },
        {
          "output_type": "display_data",
          "data": {
            "text/plain": [
              "Output()"
            ],
            "application/vnd.jupyter.widget-view+json": {
              "version_major": 2,
              "version_minor": 0,
              "model_id": "12fa3fac757d4da38eab38a2d35f94ff"
            }
          },
          "metadata": {}
        },
        {
          "output_type": "stream",
          "name": "stderr",
          "text": [
            "INFO:pytorch_lightning.utilities.rank_zero:`Trainer.fit` stopped: `max_epochs=5` reached.\n"
          ]
        },
        {
          "output_type": "display_data",
          "data": {
            "text/plain": [],
            "text/html": [
              "<pre style=\"white-space:pre;overflow-x:auto;line-height:normal;font-family:Menlo,'DejaVu Sans Mono',consolas,'Courier New',monospace\"></pre>\n"
            ]
          },
          "metadata": {}
        },
        {
          "output_type": "stream",
          "name": "stdout",
          "text": [
            "No metrics were logged during training.\n"
          ]
        }
      ],
      "source": [
        "# this takes approximately 15min to run on Google Colab GPU\n",
        "from types import MethodType\n",
        "from torch.optim import Adam\n",
        "from pytorch_lightning.callbacks import (\n",
        "    EarlyStopping,\n",
        "    ModelCheckpoint,\n",
        "    RichProgressBar,\n",
        ")\n",
        "\n",
        "# we use Adam optimizer with 1e-4 learning rate\n",
        "def configure_optimizers(self):\n",
        "    return Adam(self.parameters(), lr=1e-4)\n",
        "\n",
        "model.configure_optimizers = MethodType(configure_optimizers, model)\n",
        "\n",
        "# we monitor diarization error rate on the validation set\n",
        "# and use to keep the best checkpoint and stop early\n",
        "monitor, direction = task.val_monitor\n",
        "checkpoint = ModelCheckpoint(\n",
        "    monitor=monitor,\n",
        "    mode=direction,\n",
        "    save_top_k=1,\n",
        "    every_n_epochs=1,\n",
        "    save_last=False,\n",
        "    save_weights_only=False,\n",
        "    filename=\"{epoch}\",\n",
        "    verbose=False,\n",
        ")\n",
        "early_stopping = EarlyStopping(\n",
        "    monitor=monitor,\n",
        "    mode=direction,\n",
        "    min_delta=0.0,\n",
        "    patience=10,\n",
        "    strict=True,\n",
        "    verbose=False,\n",
        ")\n",
        "\n",
        "# Create an instance of the MetricsLogger\n",
        "metrics_logger = MetricsLogger()\n",
        "\n",
        "callbacks = [RichProgressBar(), checkpoint, early_stopping, metrics_logger]\n",
        "\n",
        "# we train for at most 20 epochs (might be shorter in case of early stopping)\n",
        "from pytorch_lightning import Trainer\n",
        "trainer = Trainer(accelerator=\"gpu\",\n",
        "                  callbacks=callbacks,\n",
        "                  max_epochs=5,\n",
        "                  gradient_clip_val=0.5)\n",
        "\n",
        "model.train()\n",
        "\n",
        "trainer.fit(model)"
      ]
    },
    {
      "cell_type": "code",
      "execution_count": null,
      "metadata": {
        "id": "830LvZfdd3Rn"
      },
      "outputs": [],
      "source": [
        "# save path to the best checkpoint for later use\n",
        "finetuned_model = checkpoint.best_model_path\n",
        "\n",
        "# uncomment to download the checkpoint\n",
        "#from google.colab import files\n",
        "#files.download(finetuned_model)"
      ]
    },
    {
      "cell_type": "code",
      "source": [
        "from pyannote.audio import Model\n",
        "\n",
        "# Load the best model from the checkpoint\n",
        "best_model = Model.from_pretrained(finetuned_model)\n",
        "\n",
        "# Set the model to evaluation mode\n",
        "best_model.eval()\n",
        "\n",
        "# Define the path where you want to save the model\n",
        "output_path = \"/content/drive/MyDrive/finetuned_pyannote_model.pth\"\n",
        "\n",
        "# Save the model's state dictionary\n",
        "torch.save(best_model.state_dict(), output_path)\n",
        "\n",
        "print(f\"Finetuned model saved to {output_path}\")\n"
      ],
      "metadata": {
        "colab": {
          "base_uri": "https://localhost:8080/"
        },
        "id": "epJCfeOkDws8",
        "outputId": "9d5d8395-1df9-4126-89f4-53c93198049f"
      },
      "execution_count": null,
      "outputs": [
        {
          "output_type": "stream",
          "name": "stdout",
          "text": [
            "Finetuned model saved to /content/drive/MyDrive/finetuned_pyannote_model.pth\n"
          ]
        }
      ]
    },
    {
      "cell_type": "markdown",
      "metadata": {
        "id": "2NVGAIMd-uPI"
      },
      "source": [
        "## Optimizing the pipeline hyper-parameters\n",
        "\n",
        "The pretrained `pyannote/speaker-diarization` pipeline relies on its own set of hyper-parameters adapted to the internal `pyannote/segmentation` pretrained model:"
      ]
    },
    {
      "cell_type": "code",
      "execution_count": null,
      "metadata": {
        "colab": {
          "base_uri": "https://localhost:8080/"
        },
        "id": "8OUIBHP7-xk_",
        "outputId": "47564af1-7814-4246-da90-bf2efc976719"
      },
      "outputs": [
        {
          "output_type": "execute_result",
          "data": {
            "text/plain": [
              "{'segmentation': {'min_duration_off': 0.5817029604921046,\n",
              "  'threshold': 0.4442333667381752},\n",
              " 'clustering': {'method': 'centroid',\n",
              "  'min_cluster_size': 15,\n",
              "  'threshold': 0.7153814381597874}}"
            ]
          },
          "metadata": {},
          "execution_count": 25
        }
      ],
      "source": [
        "pretrained_hyperparameters = pretrained_pipeline.parameters(instantiated=True)\n",
        "pretrained_hyperparameters"
      ]
    },
    {
      "cell_type": "code",
      "execution_count": null,
      "metadata": {
        "id": "FSWW7bIphgAI",
        "colab": {
          "base_uri": "https://localhost:8080/"
        },
        "outputId": "34bd2368-23e8-4c60-ff91-160f2ce0ed90"
      },
      "outputs": [
        {
          "output_type": "stream",
          "name": "stdout",
          "text": [
            "Best segmentation threshold so far: 0.10432237133986116\n",
            "Best segmentation threshold so far: 0.764334017333\n",
            "Best segmentation threshold so far: 0.764334017333\n",
            "Best segmentation threshold so far: 0.764334017333\n",
            "Best segmentation threshold so far: 0.6413189814489401\n",
            "Best segmentation threshold so far: 0.3761418718102214\n",
            "Best segmentation threshold so far: 0.3761418718102214\n",
            "Best segmentation threshold so far: 0.3761418718102214\n",
            "Best segmentation threshold so far: 0.3761418718102214\n",
            "Best segmentation threshold so far: 0.3761418718102214\n",
            "Best segmentation threshold so far: 0.4890216702253015\n",
            "Best segmentation threshold so far: 0.4890216702253015\n",
            "Best segmentation threshold so far: 0.4890216702253015\n",
            "Best segmentation threshold so far: 0.4890216702253015\n",
            "Best segmentation threshold so far: 0.4890216702253015\n",
            "Best segmentation threshold so far: 0.4890216702253015\n",
            "Best segmentation threshold so far: 0.4890216702253015\n",
            "Best segmentation threshold so far: 0.4890216702253015\n",
            "Best segmentation threshold so far: 0.4446476905426763\n",
            "Best segmentation threshold so far: 0.4446476905426763\n",
            "Best segmentation threshold so far: 0.4446476905426763\n",
            "Best segmentation threshold so far: 0.4446476905426763\n"
          ]
        }
      ],
      "source": [
        "from pyannote.audio.pipelines import SpeakerDiarization\n",
        "from pyannote.pipeline import Optimizer\n",
        "\n",
        "pipeline = SpeakerDiarization(\n",
        "    segmentation=finetuned_model,\n",
        "    clustering=\"OracleClustering\",\n",
        ")\n",
        "pipeline.to(torch.device('cuda'))\n",
        "# as reported in the technical report, min_duration_off can safely be set to 0.0\n",
        "pipeline.freeze({\"segmentation\": {\"min_duration_off\": 0.0}})\n",
        "\n",
        "optimizer = Optimizer(pipeline)\n",
        "dev_set = list(dataset.development())\n",
        "\n",
        "iterations = optimizer.tune_iter(dev_set, show_progress=False)\n",
        "best_loss = 1.0\n",
        "for i, iteration in enumerate(iterations):\n",
        "    print(f\"Best segmentation threshold so far: {iteration['params']['segmentation']['threshold']}\")\n",
        "    if i > 50: break   # 50 iterations should give slightly better results"
      ]
    },
    {
      "cell_type": "markdown",
      "metadata": {
        "id": "pAUx-1Pw3Uc9"
      },
      "source": [
        "Then, we use the optimized value of `segmentation.threshold` and optimize `clustering.threshold`."
      ]
    },
    {
      "cell_type": "code",
      "execution_count": null,
      "metadata": {
        "id": "CSzOWLL5Q29-"
      },
      "outputs": [],
      "source": [
        "best_segmentation_threshold = optimizer.best_params[\"segmentation\"][\"threshold\"]"
      ]
    },
    {
      "cell_type": "code",
      "execution_count": null,
      "metadata": {
        "id": "M_pQkyQ5RCjl",
        "colab": {
          "base_uri": "https://localhost:8080/"
        },
        "outputId": "9b6da87d-14ac-4a35-f595-f56041598b9d"
      },
      "outputs": [
        {
          "output_type": "stream",
          "name": "stdout",
          "text": [
            "Best clustering threshold so far: 1.5079897577854542\n",
            "Best clustering threshold so far: 1.5079897577854542\n",
            "Best clustering threshold so far: 1.5079897577854542\n",
            "Best clustering threshold so far: 0.8214233463423468\n",
            "Best clustering threshold so far: 0.8214233463423468\n",
            "Best clustering threshold so far: 0.703770779639592\n",
            "Best clustering threshold so far: 0.703770779639592\n",
            "Best clustering threshold so far: 0.703770779639592\n",
            "Best clustering threshold so far: 0.703770779639592\n",
            "Best clustering threshold so far: 0.703770779639592\n",
            "Best clustering threshold so far: 0.703770779639592\n",
            "Best clustering threshold so far: 0.703770779639592\n",
            "Best clustering threshold so far: 0.703770779639592\n",
            "Best clustering threshold so far: 0.703770779639592\n",
            "Best clustering threshold so far: 0.703770779639592\n",
            "Best clustering threshold so far: 0.703770779639592\n",
            "Best clustering threshold so far: 0.703770779639592\n",
            "Best clustering threshold so far: 0.703770779639592\n",
            "Best clustering threshold so far: 0.703770779639592\n",
            "Best clustering threshold so far: 0.703770779639592\n",
            "Best clustering threshold so far: 0.6448623415693667\n",
            "Best clustering threshold so far: 0.6448623415693667\n"
          ]
        }
      ],
      "source": [
        "pipeline = SpeakerDiarization(\n",
        "    segmentation=finetuned_model,\n",
        "    embedding=pretrained_pipeline.embedding,\n",
        "    embedding_exclude_overlap=pretrained_pipeline.embedding_exclude_overlap,\n",
        "    clustering=pretrained_pipeline.klustering,\n",
        ")\n",
        "pipeline.to(torch.device('cuda'))\n",
        "pipeline.freeze({\n",
        "    \"segmentation\": {\n",
        "        \"threshold\": best_segmentation_threshold,\n",
        "        \"min_duration_off\": 0.0,\n",
        "    },\n",
        "    \"clustering\": {\n",
        "        \"method\": \"centroid\",\n",
        "        \"min_cluster_size\": 15,\n",
        "    },\n",
        "})\n",
        "\n",
        "optimizer = Optimizer(pipeline)\n",
        "iterations = optimizer.tune_iter(dev_set, show_progress=False)\n",
        "best_loss = 1.0\n",
        "for i, iteration in enumerate(iterations):\n",
        "    print(f\"Best clustering threshold so far: {iteration['params']['clustering']['threshold']}\")\n",
        "    if i > 50: break  # 50 iterations should give slightly better results"
      ]
    },
    {
      "cell_type": "markdown",
      "metadata": {
        "id": "BDA2XT-wAzDO"
      },
      "source": [
        "Finally, we use the optimized values of `segmentation.threshold` and `clustering.threshold` to evaluate the performance of the finetuned pipeline:"
      ]
    },
    {
      "cell_type": "code",
      "execution_count": null,
      "metadata": {
        "id": "GBJv2j1U_5mj"
      },
      "outputs": [],
      "source": [
        "best_clustering_threshold = optimizer.best_params['clustering']['threshold']"
      ]
    },
    {
      "cell_type": "code",
      "execution_count": null,
      "metadata": {
        "colab": {
          "base_uri": "https://localhost:8080/"
        },
        "id": "ir1VUqNEimcN",
        "outputId": "57c58b26-8019-4253-9d1c-e2f645a7dcec"
      },
      "outputs": [
        {
          "output_type": "stream",
          "name": "stdout",
          "text": [
            "The finetuned pipeline reaches a Diarization Error Rate (DER) of 27.0% on AMI-SDM.SpeakerDiarization.mini test set.\n"
          ]
        }
      ],
      "source": [
        "finetuned_pipeline = SpeakerDiarization(\n",
        "    segmentation=finetuned_model,\n",
        "    embedding=pretrained_pipeline.embedding,\n",
        "    embedding_exclude_overlap=pretrained_pipeline.embedding_exclude_overlap,\n",
        "    clustering=pretrained_pipeline.klustering,\n",
        ")\n",
        "finetuned_pipeline.to(torch.device('cuda'))\n",
        "\n",
        "finetuned_pipeline.instantiate({\n",
        "    \"segmentation\": {\n",
        "        \"threshold\": best_segmentation_threshold,\n",
        "        \"min_duration_off\": 0.0,\n",
        "    },\n",
        "    \"clustering\": {\n",
        "        \"method\": \"centroid\",\n",
        "        \"min_cluster_size\": 15,\n",
        "        \"threshold\": best_clustering_threshold,\n",
        "    },\n",
        "})\n",
        "\n",
        "metric = DiarizationErrorRate()\n",
        "\n",
        "for file in dataset.test():\n",
        "    # apply finetuned pipeline\n",
        "    file[\"finetuned pipeline\"] = finetuned_pipeline(file)\n",
        "\n",
        "    # evaluate its performance\n",
        "    metric(file[\"annotation\"], file[\"finetuned pipeline\"], uem=file[\"annotated\"])\n",
        "\n",
        "print(f\"The finetuned pipeline reaches a Diarization Error Rate (DER) of {100 * abs(metric):.1f}% on {dataset.name} test set.\")"
      ]
    },
    {
      "cell_type": "code",
      "execution_count": null,
      "metadata": {
        "colab": {
          "base_uri": "https://localhost:8080/",
          "height": 157
        },
        "id": "LFvNtdZTBDZh",
        "outputId": "7384305e-d259-4ec9-87a5-b2d3ef5d7b5c"
      },
      "outputs": [
        {
          "output_type": "execute_result",
          "data": {
            "text/plain": [
              "<pyannote.core.annotation.Annotation at 0x7a0ba1988520>"
            ],
            "image/png": "[encoded data removed]"
          },
          "metadata": {},
          "execution_count": 31
        }
      ],
      "source": [
        "file[\"finetuned pipeline\"]"
      ]
    },
    {
      "cell_type": "code",
      "execution_count": null,
      "metadata": {
        "colab": {
          "base_uri": "https://localhost:8080/",
          "height": 157
        },
        "id": "odzLUrqaBHgV",
        "outputId": "d397ebd7-1220-4365-ae10-59f2629a4e55"
      },
      "outputs": [
        {
          "output_type": "execute_result",
          "data": {
            "text/plain": [
              "<pyannote.core.annotation.Annotation at 0x7a0aee67b430>"
            ],
            "image/png": "[encoded data removed]"
          },
          "metadata": {},
          "execution_count": 32
        }
      ],
      "source": [
        "file[\"annotation\"]"
      ]
    },
    {
      "cell_type": "code",
      "source": [
        "## Exporting the finetuned model\n",
        "\n",
        "from pyannote.audio import Model\n",
        "import torch\n",
        "\n",
        "# Load the best model from the checkpoint\n",
        "best_model = Model.from_pretrained(finetuned_model)\n",
        "\n",
        "# Set the model to evaluation mode\n",
        "best_model.eval()\n",
        "\n",
        "# Define the path where you want to save the model\n",
        "output_path = \"/content/finetuned_pyannote_model\"\n",
        "\n",
        "# Save the model\n",
        "torch.save(best_model.state_dict(), output_path)\n",
        "\n",
        "print(f\"Finetuned model saved to {output_path}\")\n",
        "\n",
        "# To verify, you can load the model back\n",
        "loaded_model = Model.from_pretrained(\"pyannote/segmentation\", use_auth_token=HUGGINGFACE_TOKEN)\n",
        "loaded_model.load_state_dict(torch.load(output_path))\n",
        "print(\"Model loaded successfully!\")\n",
        "\n",
        "# If you want to use the model in the pipeline\n",
        "finetuned_pipeline.segmentation = loaded_model"
      ],
      "metadata": {
        "id": "tTtSU2_JmaGT"
      },
      "execution_count": null,
      "outputs": []
    }
  ],
  "metadata": {
    "accelerator": "GPU",
    "colab": {
      "provenance": []
    },
    "gpuClass": "standard",
    "kernelspec": {
      "display_name": "Python 3",
      "name": "python3"
    },
    "language_info": {
      "name": "python"
    },
    "widgets": {
      "application/vnd.jupyter.widget-state+json": {
        "12fa3fac757d4da38eab38a2d35f94ff": {
          "model_module": "@jupyter-widgets/output",
          "model_name": "OutputModel",
          "model_module_version": "1.0.0",
          "state": {
            "_dom_classes": [],
            "_model_module": "@jupyter-widgets/output",
            "_model_module_version": "1.0.0",
            "_model_name": "OutputModel",
            "_view_count": null,
            "_view_module": "@jupyter-widgets/output",
            "_view_module_version": "1.0.0",
            "_view_name": "OutputView",
            "layout": "IPY_MODEL_16b6aeee5de0449a872feef22dbffc8f",
            "msg_id": "",
            "outputs": [
              {
                "output_type": "display_data",
                "data": {
                  "text/plain": "Epoch 4/4  \u001b[38;2;98;6;224m━━━━━━━━━━━━━━━━━━━━━━━━━━━━━━━━━━\u001b[0m \u001b[37m197/197\u001b[0m \u001b[38;5;245m0:00:27 • 0:00:00\u001b[0m \u001b[38;5;249m7.16it/s\u001b[0m \u001b[37mv_num: 3.000 DiarizationErrorRate:\u001b[0m\n                                                                                 \u001b[37m0.211                             \u001b[0m\n                                                                                 \u001b[37mDiarizationErrorRate/Confusion:   \u001b[0m\n                                                                                 \u001b[37m0.034                             \u001b[0m\n                                                                                 \u001b[37mDiarizationErrorRate/FalseAlarm:  \u001b[0m\n                                                                                 \u001b[37m0.076 DiarizationErrorRate/Miss:  \u001b[0m\n                                                                                 \u001b[37m0.101                             \u001b[0m\n                                                                                 \u001b[37mDiarizationErrorRate/Threshold:   \u001b[0m\n                                                                                 \u001b[37m0.480                             \u001b[0m\n",
                  "text/html": "<pre style=\"white-space:pre;overflow-x:auto;line-height:normal;font-family:Menlo,'DejaVu Sans Mono',consolas,'Courier New',monospace\">Epoch 4/4  <span style=\"color: #6206e0; text-decoration-color: #6206e0\">━━━━━━━━━━━━━━━━━━━━━━━━━━━━━━━━━━</span> <span style=\"color: #c0c0c0; text-decoration-color: #c0c0c0\">197/197</span> <span style=\"color: #8a8a8a; text-decoration-color: #8a8a8a\">0:00:27 • 0:00:00</span> <span style=\"color: #b2b2b2; text-decoration-color: #b2b2b2\">7.16it/s</span> <span style=\"color: #c0c0c0; text-decoration-color: #c0c0c0\">v_num: 3.000 DiarizationErrorRate:</span>\n                                                                                 <span style=\"color: #c0c0c0; text-decoration-color: #c0c0c0\">0.211                             </span>\n                                                                                 <span style=\"color: #c0c0c0; text-decoration-color: #c0c0c0\">DiarizationErrorRate/Confusion:   </span>\n                                                                                 <span style=\"color: #c0c0c0; text-decoration-color: #c0c0c0\">0.034                             </span>\n                                                                                 <span style=\"color: #c0c0c0; text-decoration-color: #c0c0c0\">DiarizationErrorRate/FalseAlarm:  </span>\n                                                                                 <span style=\"color: #c0c0c0; text-decoration-color: #c0c0c0\">0.076 DiarizationErrorRate/Miss:  </span>\n                                                                                 <span style=\"color: #c0c0c0; text-decoration-color: #c0c0c0\">0.101                             </span>\n                                                                                 <span style=\"color: #c0c0c0; text-decoration-color: #c0c0c0\">DiarizationErrorRate/Threshold:   </span>\n                                                                                 <span style=\"color: #c0c0c0; text-decoration-color: #c0c0c0\">0.480                             </span>\n</pre>\n"
                },
                "metadata": {}
              }
            ]
          }
        },
        "16b6aeee5de0449a872feef22dbffc8f": {
          "model_module": "@jupyter-widgets/base",
          "model_name": "LayoutModel",
          "model_module_version": "1.2.0",
          "state": {
            "_model_module": "@jupyter-widgets/base",
            "_model_module_version": "1.2.0",
            "_model_name": "LayoutModel",
            "_view_count": null,
            "_view_module": "@jupyter-widgets/base",
            "_view_module_version": "1.2.0",
            "_view_name": "LayoutView",
            "align_content": null,
            "align_items": null,
            "align_self": null,
            "border": null,
            "bottom": null,
            "display": null,
            "flex": null,
            "flex_flow": null,
            "grid_area": null,
            "grid_auto_columns": null,
            "grid_auto_flow": null,
            "grid_auto_rows": null,
            "grid_column": null,
            "grid_gap": null,
            "grid_row": null,
            "grid_template_areas": null,
            "grid_template_columns": null,
            "grid_template_rows": null,
            "height": null,
            "justify_content": null,
            "justify_items": null,
            "left": null,
            "margin": null,
            "max_height": null,
            "max_width": null,
            "min_height": null,
            "min_width": null,
            "object_fit": null,
            "object_position": null,
            "order": null,
            "overflow": null,
            "overflow_x": null,
            "overflow_y": null,
            "padding": null,
            "right": null,
            "top": null,
            "visibility": null,
            "width": null
          }
        }
      }
    }
  },
  "nbformat": 4,
  "nbformat_minor": 0
}